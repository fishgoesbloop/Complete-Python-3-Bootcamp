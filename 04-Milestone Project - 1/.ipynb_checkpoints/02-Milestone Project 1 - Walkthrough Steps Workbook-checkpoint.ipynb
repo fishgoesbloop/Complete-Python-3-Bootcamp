{
 "cells": [
  {
   "cell_type": "markdown",
   "metadata": {},
   "source": [
    "# Milestone Project 1: Walkthrough Steps Workbook\n",
    "\n",
    "Below is a set of steps for you to follow to try to create the Tic Tac Toe Milestone Project game!"
   ]
  },
  {
   "cell_type": "markdown",
   "metadata": {},
   "source": [
    "#### Some suggested tools before you get started:\n",
    "To take input from a user:\n",
    "\n",
    "    player1 = input(\"Please pick a marker 'X' or 'O'\")\n",
    "    \n",
    "Note that input() takes in a string. If you need an integer value, use\n",
    "\n",
    "    position = int(input('Please enter a number'))\n",
    "    \n",
    "<br>To clear the screen between moves:\n",
    "\n",
    "    from IPython.display import clear_output\n",
    "    clear_output()\n",
    "    \n",
    "Note that clear_output() will only work in jupyter. To clear the screen in other IDEs, consider:\n",
    "\n",
    "    print('\\n'*100)\n",
    "    \n",
    "This scrolls the previous board up out of view. Now on to the program!"
   ]
  },
  {
   "cell_type": "markdown",
   "metadata": {},
   "source": [
    "**Step 1: Write a function that can print out a board. Set up your board as a list, where each index 1-9 corresponds with a number on a number pad, so you get a 3 by 3 board representation.**"
   ]
  },
  {
   "cell_type": "code",
   "execution_count": 1,
   "metadata": {},
   "outputs": [],
   "source": [
    "from IPython.display import clear_output\n",
    "\n",
    "def display_board(board):\n",
    "    \n",
    "    print(board[7]+\"|\"+board[8]+\"|\"+board[9])\n",
    "    print(\"-----\")\n",
    "    print(board[4]+\"|\"+board[5]+\"|\"+board[6])\n",
    "    print(\"-----\")\n",
    "    print(board[1]+\"|\"+board[2]+\"|\"+board[3])\n",
    "    "
   ]
  },
  {
   "cell_type": "markdown",
   "metadata": {},
   "source": [
    "**TEST Step 1:** run your function on a test version of the board list, and make adjustments as necessary"
   ]
  },
  {
   "cell_type": "code",
   "execution_count": 2,
   "metadata": {},
   "outputs": [
    {
     "name": "stdout",
     "output_type": "stream",
     "text": [
      "X|O|X\n",
      "-----\n",
      "O|X|O\n",
      "-----\n",
      "O|O|X\n"
     ]
    }
   ],
   "source": [
    "test_board = ['#','O','O','X','O','X','O','X','O','X']\n",
    "display_board(test_board)"
   ]
  },
  {
   "cell_type": "markdown",
   "metadata": {},
   "source": [
    "**Step 2: Write a function that can take in a player input and assign their marker as 'X' or 'O'. Think about using *while* loops to continually ask until you get a correct answer.**"
   ]
  },
  {
   "cell_type": "code",
   "execution_count": 3,
   "metadata": {},
   "outputs": [],
   "source": [
    "def player_input():\n",
    "    val=['X','O']\n",
    "    marker=[]\n",
    "    while marker not in val:\n",
    "        marker= input(\"Choose X or O:\")\n",
    "    return marker"
   ]
  },
  {
   "cell_type": "markdown",
   "metadata": {},
   "source": [
    "**TEST Step 2:** run the function to make sure it returns the desired output"
   ]
  },
  {
   "cell_type": "code",
   "execution_count": null,
   "metadata": {},
   "outputs": [],
   "source": []
  },
  {
   "cell_type": "markdown",
   "metadata": {},
   "source": [
    "**Step 3: Write a function that takes in the board list object, a marker ('X' or 'O'), and a desired position (number 1-9) and assigns it to the board.**"
   ]
  },
  {
   "cell_type": "code",
   "execution_count": 4,
   "metadata": {},
   "outputs": [],
   "source": [
    "def place_marker(board, marker, position):\n",
    "    val=['X','O']\n",
    "    while marker not in val:\n",
    "        marker=(input(\"Choose X or O:\"))\n",
    "    test_board[position]=marker\n",
    "    "
   ]
  },
  {
   "cell_type": "markdown",
   "metadata": {},
   "source": [
    "**TEST Step 3:** run the place marker function using test parameters and display the modified board"
   ]
  },
  {
   "cell_type": "code",
   "execution_count": null,
   "metadata": {},
   "outputs": [],
   "source": []
  },
  {
   "cell_type": "markdown",
   "metadata": {},
   "source": [
    "**Step 4: Write a function that takes in a board and a mark (X or O) and then checks to see if that mark has won. **"
   ]
  },
  {
   "cell_type": "code",
   "execution_count": 5,
   "metadata": {},
   "outputs": [],
   "source": [
    "def win_check(board, marker):\n",
    "    if board[1] == board[2] == board[3] and board[1]!=\" \":\n",
    "        if board[1] == marker:\n",
    "            print(f'{marker} has won')\n",
    "        else:\n",
    "            print(f'{marker} has lost')\n",
    "        return True\n",
    "    elif board[1] == board[5] == board[9] and board[1]!=\" \":\n",
    "        if board[1] == marker:\n",
    "            print(f'{marker} has won')\n",
    "        else:\n",
    "            print(f'{marker} has lost')\n",
    "        return True\n",
    "    elif board[1] == board[4]== board[7] and board[1]!=\" \": \n",
    "        if board[1] == marker:\n",
    "            print(f'{marker} has won')\n",
    "        else:\n",
    "            print(f'{marker} has lost')\n",
    "        return True\n",
    "    elif board[2] == board[5] == board[8] and board[2]!=\" \":\n",
    "        if board[3] == marker:\n",
    "            print(f'{marker} has won')\n",
    "        else:\n",
    "            print(f'{marker} has lost')\n",
    "        return True\n",
    "    elif board[3] == board[6] == board[9]  and board[3]!=\" \":\n",
    "        if board[3] == marker:\n",
    "            print(f'{marker} has won')\n",
    "        else:\n",
    "            print(f'{marker} has lost')\n",
    "        return True\n",
    "    elif board[3] == board[5] == board[7] and board[3]!=\" \":\n",
    "        if board[3] == marker:\n",
    "            print(f'{marker} has won')\n",
    "        else:\n",
    "            print(f'{marker} has lost')        \n",
    "        return True\n",
    "    elif board[4] == board[5] == board[6] and board[4]!=\" \":\n",
    "        if board[4] == marker:\n",
    "            print(f'{marker} has won')\n",
    "        else:\n",
    "            print(f'{marker} has lost')\n",
    "        return True\n",
    "    elif board[7] == board[8] == board[9] and board[7]!=\" \":\n",
    "        if board[7] == marker:\n",
    "            print(f'{marker} has won')\n",
    "        else:\n",
    "            print(f'{marker} has lost')\n",
    "        return True\n",
    "    else:\n",
    "        return False"
   ]
  },
  {
   "cell_type": "markdown",
   "metadata": {},
   "source": [
    "**TEST Step 4:** run the win_check function against our test_board - it should return True"
   ]
  },
  {
   "cell_type": "code",
   "execution_count": 6,
   "metadata": {},
   "outputs": [
    {
     "name": "stdout",
     "output_type": "stream",
     "text": [
      "X has won\n"
     ]
    },
    {
     "data": {
      "text/plain": [
       "True"
      ]
     },
     "execution_count": 6,
     "metadata": {},
     "output_type": "execute_result"
    }
   ],
   "source": [
    "win_check(test_board,'X')"
   ]
  },
  {
   "cell_type": "markdown",
   "metadata": {},
   "source": [
    "**Step 5: Write a function that uses the random module to randomly decide which player goes first. You may want to lookup random.randint() Return a string of which player went first.**"
   ]
  },
  {
   "cell_type": "code",
   "execution_count": 7,
   "metadata": {},
   "outputs": [],
   "source": [
    "import random\n",
    "\n",
    "def choose_first():\n",
    "    who_goes_first = random.randint(1,2)\n",
    "    print(f\"Player {who_goes_first} goes first\")\n",
    "    return who_goes_first\n",
    "    "
   ]
  },
  {
   "cell_type": "markdown",
   "metadata": {},
   "source": [
    "**Step 6: Write a function that returns a boolean indicating whether a space on the board is freely available.**"
   ]
  },
  {
   "cell_type": "code",
   "execution_count": 8,
   "metadata": {},
   "outputs": [],
   "source": [
    "def space_check(board, position):\n",
    "    return board[position]==\" \""
   ]
  },
  {
   "cell_type": "markdown",
   "metadata": {},
   "source": [
    "**Step 7: Write a function that checks if the board is full and returns a boolean value. True if full, False otherwise.**"
   ]
  },
  {
   "cell_type": "code",
   "execution_count": 9,
   "metadata": {},
   "outputs": [],
   "source": [
    "def full_board_check(board):\n",
    "    num = 0\n",
    "    for b in board:\n",
    "        if b == \" \":\n",
    "            num +=1\n",
    "        else:\n",
    "            pass\n",
    "    return not num > 0     "
   ]
  },
  {
   "cell_type": "markdown",
   "metadata": {},
   "source": [
    "**Step 8: Write a function that asks for a player's next position (as a number 1-9) and then uses the function from step 6 to check if it's a free position. If it is, then return the position for later use.**"
   ]
  },
  {
   "cell_type": "code",
   "execution_count": 10,
   "metadata": {},
   "outputs": [],
   "source": [
    "def player_choice(board):\n",
    "    position=[]\n",
    "    x=True\n",
    "    while x==True:\n",
    "        pos = int(input(\"Select a position:\"))\n",
    "        free = space_check(test_board,pos)\n",
    "        if free ==True:\n",
    "            position = pos\n",
    "            x=False\n",
    "            return position\n",
    "        else:\n",
    "            print(\"Cell is occupied\")"
   ]
  },
  {
   "cell_type": "markdown",
   "metadata": {},
   "source": [
    "**Step 9: Write a function that asks the player if they want to play again and returns a boolean True if they do want to play again.**"
   ]
  },
  {
   "cell_type": "code",
   "execution_count": 11,
   "metadata": {},
   "outputs": [],
   "source": [
    "def replay():\n",
    "    decision = input(\"Play again? Y/N: \")\n",
    "    if decision =='N':\n",
    "        global play\n",
    "        play=False\n",
    "        return play\n",
    "    else:\n",
    "        pass"
   ]
  },
  {
   "cell_type": "markdown",
   "metadata": {
    "collapsed": true
   },
   "source": [
    "**Step 10: Here comes the hard part! Use while loops and the functions you've made to run the game!**"
   ]
  },
  {
   "cell_type": "code",
   "execution_count": null,
   "metadata": {},
   "outputs": [
    {
     "name": "stdout",
     "output_type": "stream",
     "text": [
      " | | \n",
      "-----\n",
      " |X| \n",
      "-----\n",
      " |X| \n"
     ]
    }
   ],
   "source": [
    "print('Welcome to Tic Tac Toe!')\n",
    "play=True\n",
    "while play==True:\n",
    "    # Set the game up here\n",
    "    test_board = ['#',' ',' ',' ',' ',' ',' ',' ',' ',' ']\n",
    "    #test_board = ['#','X','O','X','O','O','X','X','',' ']\n",
    "    display_board(test_board)\n",
    "    \n",
    "    who_goes_first = choose_first()\n",
    "    game_on = True\n",
    "\n",
    "    while game_on==True:\n",
    "        #Player 1 Turn\n",
    "            position = int(player_choice(test_board))\n",
    "            marker = player_input()\n",
    "            place_marker(test_board,marker,position)\n",
    "            clear_output()\n",
    "            display_board(test_board)\n",
    "            if win_check(test_board, marker)==True:\n",
    "                game_on=False\n",
    "            elif full_board_check(test_board)==True:\n",
    "                print(\"Board is full\")\n",
    "                game_on=False\n",
    "            else:\n",
    "                pass\n",
    "    replay()\n",
    "\n",
    "    "
   ]
  },
  {
   "cell_type": "markdown",
   "metadata": {
    "collapsed": true
   },
   "source": [
    "## Good Job!"
   ]
  },
  {
   "cell_type": "code",
   "execution_count": null,
   "metadata": {},
   "outputs": [],
   "source": []
  }
 ],
 "metadata": {
  "kernelspec": {
   "display_name": "Python 3",
   "language": "python",
   "name": "python3"
  },
  "language_info": {
   "codemirror_mode": {
    "name": "ipython",
    "version": 3
   },
   "file_extension": ".py",
   "mimetype": "text/x-python",
   "name": "python",
   "nbconvert_exporter": "python",
   "pygments_lexer": "ipython3",
   "version": "3.7.4"
  }
 },
 "nbformat": 4,
 "nbformat_minor": 1
}
